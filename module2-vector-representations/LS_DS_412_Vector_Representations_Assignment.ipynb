{
 "cells": [
  {
   "cell_type": "markdown",
   "metadata": {},
   "source": [
    "<img align=\"left\" src=\"https://lever-client-logos.s3.amazonaws.com/864372b1-534c-480e-acd5-9711f850815c-1524247202159.png\" width=200>\n",
    "<br></br>\n",
    "\n",
    "# Vector Representations\n",
    "## *Data Science Unit 4 Sprint 2 Assignment 2*"
   ]
  },
  {
   "cell_type": "code",
   "execution_count": 1,
   "metadata": {
    "colab": {
     "base_uri": "https://localhost:8080/",
     "height": 159
    },
    "colab_type": "code",
    "id": "hyj-f9FDcVFp",
    "outputId": "5dd045fe-6e4c-458c-e2fc-253c3da9c805"
   },
   "outputs": [],
   "source": [
    "import re\n",
    "import string\n",
    "\n",
    "from sklearn.feature_extraction.text import CountVectorizer, TfidfVectorizer\n",
    "import matplotlib.pyplot as plt\n",
    "import pandas as pd\n",
    "import numpy as np\n",
    "import spacy\n",
    "\n",
    "from bs4 import BeautifulSoup"
   ]
  },
  {
   "cell_type": "code",
   "execution_count": 128,
   "metadata": {},
   "outputs": [],
   "source": [
    "def unicodetoascii(text):\n",
    "\n",
    "    TEXT = (text.\n",
    "    \t\treplace('\\\\xe2\\\\x80\\\\x99', \"'\").\n",
    "            replace('\\\\xc3\\\\xa9', 'e').\n",
    "            replace('\\\\xe2\\\\x80\\\\x90', '-').\n",
    "            replace('\\\\xe2\\\\x80\\\\x91', '-').\n",
    "            replace('\\\\xe2\\\\x80\\\\x92', '-').\n",
    "            replace('\\\\xe2\\\\x80\\\\x93', '-').\n",
    "            replace('\\\\xe2\\\\x80\\\\x94', '-').\n",
    "            replace('\\\\xe2\\\\x80\\\\x94', '-').\n",
    "            replace('\\\\xe2\\\\x80\\\\x98', \"'\").\n",
    "            replace('\\\\xe2\\\\x80\\\\x9b', \"'\").\n",
    "            replace('\\\\xe2\\\\x80\\\\x9c', '\"').\n",
    "            replace('\\\\xe2\\\\x80\\\\x9c', '\"').\n",
    "            replace('\\\\xe2\\\\x80\\\\x9d', '\"').\n",
    "            replace('\\\\xe2\\\\x80\\\\x9e', '\"').\n",
    "            replace('\\\\xe2\\\\x80\\\\x9f', '\"').\n",
    "            replace('\\\\xe2\\\\x80\\\\xa6', '...').\n",
    "            replace('\\\\xe2\\\\x80\\\\xb2', \"'\").\n",
    "            replace('\\\\xe2\\\\x80\\\\xb3', \"'\").\n",
    "            replace('\\\\xe2\\\\x80\\\\xb4', \"'\").\n",
    "            replace('\\\\xe2\\\\x80\\\\xb5', \"'\").\n",
    "            replace('\\\\xe2\\\\x80\\\\xb6', \"'\").\n",
    "            replace('\\\\xe2\\\\x80\\\\xb7', \"'\").\n",
    "            replace('\\\\xe2\\\\x81\\\\xba', \"+\").\n",
    "            replace('\\\\xe2\\\\x81\\\\xbb', \"-\").\n",
    "            replace('\\\\xe2\\\\x81\\\\xbc', \"=\").\n",
    "            replace('\\\\xe2\\\\x81\\\\xbd', \"(\").\n",
    "            replace('\\\\xe2\\\\x81\\\\xbe', \")\")\n",
    "\n",
    "                 )\n",
    "    return TEXT"
   ]
  },
  {
   "cell_type": "markdown",
   "metadata": {
    "colab_type": "text",
    "id": "M7bcmqfGXrFG"
   },
   "source": [
    "## 1) *Clean:* Job Listings from indeed.com that contain the title \"Data Scientist\" \n",
    "\n",
    "You have `job_listings.csv` in the data folder for this module. The text data in the description column is still messy - full of html tags. Use the [BeautifulSoup](https://www.crummy.com/software/BeautifulSoup/bs4/doc/) library to clean up this column. You will need to read through the documentation to accomplish this task. "
   ]
  },
  {
   "cell_type": "code",
   "execution_count": 129,
   "metadata": {
    "colab": {},
    "colab_type": "code",
    "id": "KcYlc1URXhlC"
   },
   "outputs": [],
   "source": [
    "from bs4 import BeautifulSoup\n",
    "import requests\n",
    "import pandas as pd\n",
    "\n",
    "df=pd.read_csv('data/job_listings.csv', encoding='utf-8')\n",
    "\n",
    "def clean_data(column):\n",
    "    result=[]\n",
    "    for i in range(len(column)):\n",
    "        soup=BeautifulSoup(column[i])\n",
    "        text=soup.text\n",
    "        text=text.strip('b')\n",
    "        text=unicodetoascii(text)\n",
    "        text=text.replace('\\\\n', '')\n",
    "        result.append(text)\n",
    "       # print(text)\n",
    "    return result\n",
    "\n",
    "#soup = BeautifulSoup(open(\"module2-vector-representations/data/job_listings.csv\"), 'lxml')\n",
    "#doc=requests.get('data/job_listings.csv')\n",
    "\n",
    "##### Your Code Here #####\n",
    "#raise Exception(\"\\nThis task is not complete. \\nReplace this line with your code for the task.\")\n",
    "                \n"
   ]
  },
  {
   "cell_type": "code",
   "execution_count": 130,
   "metadata": {},
   "outputs": [],
   "source": [
    "df['clean_text']=clean_data(df['description'])"
   ]
  },
  {
   "cell_type": "code",
   "execution_count": 132,
   "metadata": {},
   "outputs": [
    {
     "data": {
      "text/plain": [
       "'\"Facebook\\'s mission is to give people the power to build community and bring the world closer together. Through our family of apps and services, we\\'re building a different kind of company that connects billions of people around the world, gives them ways to share what matters most to them, and helps bring people closer together. Whether we\\'re creating new products or helping a small business expand its reach, people at Facebook are builders at heart. Our global teams are constantly iterating, solving problems, and working together to empower people around the world to build community and connect in meaningful ways. Together, we can help people build stronger communities - we\\'re just getting started.The Infrastructure Strategy group is responsible for the strategic analysis to support and enable the continued growth critical to Facebook\\'s infrastructure organization. The ideal candidate will be passionate about Facebook, have strong analytical and modeling aptitude and has experience using data to drive cost effective decision making.RESPONSIBILITIESLeverage data and business principles to solve large-scale web, mobile and data infrastructure problems.Work cross-functionally to define problem statements, collect data, build analytical models and make recommendations.Build and maintain data driven optimization models, experiments, forecasting algorithms, and machine learning models.Leverage tools like Python, R, Hadoop & SQL to drive efficient analytics.Communicate final recommendations and drive decision making.MINIMUM QUALIFICATIONSDegree in quantitative field (e.g. Computer Science, Engineering, Mathematics, Statistics, Operations Research or other related field)2+ years of industry or graduate research experience solving analytical problems and building models using quantitative, statistical or machine learning approachesExperience with Machine Learning, Statistics, or other data analysis tools and techniquesExperience performing data extraction, cleaning, analysis and presentation for medium to large datasetsExperience with at least one programming language (i.e. Python, R, Java, or C++)Experience writing SQL queriesExperience with scientific computing and analysis packages such as NumPy, SciPy, Pandas, Scikit-learn, dplyr, or ggplot2Experience with statistics methods such as forecasting, time series, hypothesis testing, classification, clustering or regression analysisExperience with data visualization libraries such as Matplotlib, Pyplot, ggplot2Experience with machine learning libraries and packages such as PyTorch, Caffe2, TensorFlow, Keras or TheanoPREFERRED QUALIFICATIONSAdvanced degree (Master\\'s or PhD) in quantitative fieldExperience working with distributed computing tools (Hadoop, Hive, Spark, etc.)Proficiency in algorithmic complexity\"'"
      ]
     },
     "execution_count": 132,
     "metadata": {},
     "output_type": "execute_result"
    }
   ],
   "source": [
    "df['clean_text'][276]"
   ]
  },
  {
   "cell_type": "code",
   "execution_count": 133,
   "metadata": {},
   "outputs": [
    {
     "data": {
      "text/plain": [
       "'b\"<div><div><div>Facebook\\'s mission is to give people the power to build community and bring the world closer together. Through our family of apps and services, we\\'re building a different kind of company that connects billions of people around the world, gives them ways to share what matters most to them, and helps bring people closer together. Whether we\\'re creating new products or helping a small business expand its reach, people at Facebook are builders at heart. Our global teams are constantly iterating, solving problems, and working together to empower people around the world to build community and connect in meaningful ways. Together, we can help people build stronger communities \\\\xe2\\\\x80\\\\x94 we\\'re just getting started.\\\\n</div></div><div>The Infrastructure Strategy group is responsible for the strategic analysis to support and enable the continued growth critical to Facebook\\\\xe2\\\\x80\\\\x99s infrastructure organization. The ideal candidate will be passionate about Facebook, have strong analytical and modeling aptitude and has experience using data to drive cost effective decision making.\\\\n<br/>\\\\n</div><div><div>RESPONSIBILITIES</div><div></div><div><div><ul><li><div><div>\\\\nLeverage data and business principles to solve large-scale web, mobile and data infrastructure problems.</div></div></li></ul><div></div><ul><li><div><div>\\\\nWork cross-functionally to define problem statements, collect data, build analytical models and make recommendations.</div></div></li></ul><div></div><ul><li><div><div>\\\\nBuild and maintain data driven optimization models, experiments, forecasting algorithms, and machine learning models.</div></div></li></ul><div></div><ul><li><div><div>\\\\nLeverage tools like Python, R, Hadoop &amp; SQL to drive efficient analytics.</div></div></li></ul><div></div><ul><li><div><div>\\\\nCommunicate final recommendations and drive decision making.</div></div></li></ul></div></div></div><div><div>\\\\nMINIMUM QUALIFICATIONS</div><div></div><div><div><ul><li><div><div>\\\\nDegree in quantitative field (e.g. Computer Science, Engineering, Mathematics, Statistics, Operations Research or other related field)</div></div></li></ul><div></div><ul><li><div><div>\\\\n2+ years of industry or graduate research experience solving analytical problems and building models using quantitative, statistical or machine learning approaches</div></div></li></ul><div></div><ul><li><div><div>\\\\nExperience with Machine Learning, Statistics, or other data analysis tools and techniques</div></div></li></ul><div></div><ul><li><div><div>\\\\nExperience performing data extraction, cleaning, analysis and presentation for medium to large datasets</div></div></li></ul><div></div><ul><li><div><div>\\\\nExperience with at least one programming language (i.e. Python, R, Java, or C++)</div></div></li></ul><div></div><ul><li><div><div>\\\\nExperience writing SQL queries</div></div></li></ul><div></div><ul><li><div><div>\\\\nExperience with scientific computing and analysis packages such as NumPy, SciPy, Pandas, Scikit-learn, dplyr, or ggplot2</div></div></li></ul><div></div><ul><li><div><div>\\\\nExperience with statistics methods such as forecasting, time series, hypothesis testing, classification, clustering or regression analysis</div></div></li></ul><div></div><ul><li><div><div>\\\\nExperience with data visualization libraries such as Matplotlib, Pyplot, ggplot2</div></div></li></ul><div></div><ul><li><div><div>\\\\nExperience with machine learning libraries and packages such as PyTorch, Caffe2, TensorFlow, Keras or Theano</div></div></li></ul></div></div></div><div><div>\\\\nPREFERRED QUALIFICATIONS</div><div></div><div><div><ul><li><div><div>\\\\nAdvanced degree (Master\\\\xe2\\\\x80\\\\x99s or PhD) in quantitative field</div></div></li></ul><div></div><ul><li><div><div>\\\\nExperience working with distributed computing tools (Hadoop, Hive, Spark, etc.)</div></div></li></ul><div></div><ul><li><div><div>\\\\nProficiency in algorithmic complexity</div></div></li></ul></div></div></div></div>\"'"
      ]
     },
     "execution_count": 133,
     "metadata": {},
     "output_type": "execute_result"
    }
   ],
   "source": [
    "df['description'][276]"
   ]
  },
  {
   "cell_type": "markdown",
   "metadata": {
    "colab_type": "text",
    "id": "5C4xFZNtX1m2"
   },
   "source": [
    "## 2) Use Spacy to tokenize the listings "
   ]
  },
  {
   "cell_type": "code",
   "execution_count": 104,
   "metadata": {
    "colab": {},
    "colab_type": "code",
    "id": "dhUHuMr-X-II"
   },
   "outputs": [],
   "source": [
    "##### Your Code Here #####\n",
    "\n",
    "import spacy\n",
    "from spacy.tokenizer import Tokenizer\n",
    "nlp = spacy.load('en_core_web_lg')\n"
   ]
  },
  {
   "cell_type": "code",
   "execution_count": 105,
   "metadata": {},
   "outputs": [],
   "source": [
    "\n",
    "tokens = []\n",
    "\n",
    "for doc in tokenizer.pipe(df['clean_text'], batch_size=500):\n",
    "    \n",
    "    doc_tokens =[]\n",
    "    \n",
    "    for token in doc: \n",
    "        if (token.is_stop==False) & (token.is_punct == False):\n",
    "            doc_tokens.append(token.lemma_.lower())\n",
    "    tokens.append(doc_tokens)\n",
    "    \n",
    "df['tokens']=tokens"
   ]
  },
  {
   "cell_type": "code",
   "execution_count": 106,
   "metadata": {},
   "outputs": [
    {
     "data": {
      "text/plain": [
       "['\"job',\n",
       " 'requirements:conceptual',\n",
       " 'understand',\n",
       " 'machine',\n",
       " 'learning',\n",
       " 'model',\n",
       " 'like',\n",
       " 'nai\\\\xc2\\\\xa8ve',\n",
       " 'bayes,',\n",
       " 'k-means,',\n",
       " 'svm,',\n",
       " 'apriori,',\n",
       " 'linear/',\n",
       " 'logistic',\n",
       " 'regression,',\n",
       " 'neural,',\n",
       " 'random',\n",
       " 'forests,',\n",
       " 'decision',\n",
       " 'trees,',\n",
       " 'k-nn',\n",
       " 'hands-on',\n",
       " 'experience',\n",
       " '2',\n",
       " 'themintermediate',\n",
       " 'expert',\n",
       " 'level',\n",
       " 'code',\n",
       " 'skill',\n",
       " 'python/r.',\n",
       " '(ability',\n",
       " 'write',\n",
       " 'functions,',\n",
       " 'clean',\n",
       " 'efficient',\n",
       " 'datum',\n",
       " 'manipulation',\n",
       " 'mandatory',\n",
       " 'role)exposure',\n",
       " 'package',\n",
       " 'like',\n",
       " 'numpy,',\n",
       " 'scipy,',\n",
       " 'pandas,',\n",
       " 'matplotlib',\n",
       " 'etc',\n",
       " 'python',\n",
       " 'ggplot2,',\n",
       " 'dplyr,',\n",
       " 'tidyr',\n",
       " 'rability',\n",
       " 'communicate',\n",
       " 'model',\n",
       " 'finding',\n",
       " 'technical',\n",
       " 'non-technical',\n",
       " 'stake',\n",
       " 'holdershands',\n",
       " 'experience',\n",
       " 'sql/hive',\n",
       " 'similar',\n",
       " 'programme',\n",
       " 'languagemust',\n",
       " 'past',\n",
       " 'work',\n",
       " 'github,',\n",
       " 'kaggle',\n",
       " 'publish',\n",
       " \"articlemaster's\",\n",
       " 'degree',\n",
       " 'statistics/mathematics/computer',\n",
       " 'science',\n",
       " 'quant',\n",
       " 'specific',\n",
       " 'field.apply',\n",
       " 'now\"']"
      ]
     },
     "execution_count": 106,
     "metadata": {},
     "output_type": "execute_result"
    }
   ],
   "source": [
    "df['tokens'][0]"
   ]
  },
  {
   "cell_type": "markdown",
   "metadata": {
    "colab_type": "text",
    "id": "-lgCZNL_YycP"
   },
   "source": [
    "## 3) Use Scikit-Learn's CountVectorizer to get word counts for each listing."
   ]
  },
  {
   "cell_type": "code",
   "execution_count": 72,
   "metadata": {
    "colab": {},
    "colab_type": "code",
    "id": "X2PZ8Pj_YxcF"
   },
   "outputs": [],
   "source": [
    "##### Your Code Here #####\n",
    "from sklearn.feature_extraction.text import CountVectorizer\n",
    "\n",
    "#create the transformer -- initialize\n",
    "vect=CountVectorizer(stop_words='english')\n",
    "\n",
    "#build vocab and transform text\n",
    "dtm=vect.fit_transform(df['clean_text'])\n",
    "\n"
   ]
  },
  {
   "cell_type": "code",
   "execution_count": 73,
   "metadata": {},
   "outputs": [],
   "source": [
    "dtm=pd.DataFrame(dtm.todense(), columns=vect.get_feature_names())"
   ]
  },
  {
   "cell_type": "code",
   "execution_count": 74,
   "metadata": {},
   "outputs": [
    {
     "data": {
      "text/html": [
       "<div>\n",
       "<style scoped>\n",
       "    .dataframe tbody tr th:only-of-type {\n",
       "        vertical-align: middle;\n",
       "    }\n",
       "\n",
       "    .dataframe tbody tr th {\n",
       "        vertical-align: top;\n",
       "    }\n",
       "\n",
       "    .dataframe thead th {\n",
       "        text-align: right;\n",
       "    }\n",
       "</style>\n",
       "<table border=\"1\" class=\"dataframe\">\n",
       "  <thead>\n",
       "    <tr style=\"text-align: right;\">\n",
       "      <th></th>\n",
       "      <th>00</th>\n",
       "      <th>000</th>\n",
       "      <th>000pay</th>\n",
       "      <th>02115job</th>\n",
       "      <th>03</th>\n",
       "      <th>0356</th>\n",
       "      <th>04</th>\n",
       "      <th>062</th>\n",
       "      <th>06366</th>\n",
       "      <th>08</th>\n",
       "      <th>...</th>\n",
       "      <th>zenreach</th>\n",
       "      <th>zero</th>\n",
       "      <th>zeus</th>\n",
       "      <th>zf</th>\n",
       "      <th>zheng</th>\n",
       "      <th>zillow</th>\n",
       "      <th>zonesability</th>\n",
       "      <th>zoom</th>\n",
       "      <th>zuckerberg</th>\n",
       "      <th>zurich</th>\n",
       "    </tr>\n",
       "  </thead>\n",
       "  <tbody>\n",
       "    <tr>\n",
       "      <th>0</th>\n",
       "      <td>0</td>\n",
       "      <td>0</td>\n",
       "      <td>0</td>\n",
       "      <td>0</td>\n",
       "      <td>0</td>\n",
       "      <td>0</td>\n",
       "      <td>0</td>\n",
       "      <td>0</td>\n",
       "      <td>0</td>\n",
       "      <td>0</td>\n",
       "      <td>...</td>\n",
       "      <td>0</td>\n",
       "      <td>0</td>\n",
       "      <td>0</td>\n",
       "      <td>0</td>\n",
       "      <td>0</td>\n",
       "      <td>0</td>\n",
       "      <td>0</td>\n",
       "      <td>0</td>\n",
       "      <td>0</td>\n",
       "      <td>0</td>\n",
       "    </tr>\n",
       "    <tr>\n",
       "      <th>1</th>\n",
       "      <td>0</td>\n",
       "      <td>0</td>\n",
       "      <td>0</td>\n",
       "      <td>0</td>\n",
       "      <td>0</td>\n",
       "      <td>0</td>\n",
       "      <td>0</td>\n",
       "      <td>0</td>\n",
       "      <td>0</td>\n",
       "      <td>0</td>\n",
       "      <td>...</td>\n",
       "      <td>0</td>\n",
       "      <td>0</td>\n",
       "      <td>0</td>\n",
       "      <td>0</td>\n",
       "      <td>0</td>\n",
       "      <td>0</td>\n",
       "      <td>0</td>\n",
       "      <td>0</td>\n",
       "      <td>0</td>\n",
       "      <td>0</td>\n",
       "    </tr>\n",
       "    <tr>\n",
       "      <th>2</th>\n",
       "      <td>0</td>\n",
       "      <td>0</td>\n",
       "      <td>0</td>\n",
       "      <td>0</td>\n",
       "      <td>0</td>\n",
       "      <td>0</td>\n",
       "      <td>0</td>\n",
       "      <td>0</td>\n",
       "      <td>0</td>\n",
       "      <td>0</td>\n",
       "      <td>...</td>\n",
       "      <td>0</td>\n",
       "      <td>0</td>\n",
       "      <td>0</td>\n",
       "      <td>0</td>\n",
       "      <td>0</td>\n",
       "      <td>0</td>\n",
       "      <td>0</td>\n",
       "      <td>0</td>\n",
       "      <td>0</td>\n",
       "      <td>0</td>\n",
       "    </tr>\n",
       "    <tr>\n",
       "      <th>3</th>\n",
       "      <td>0</td>\n",
       "      <td>0</td>\n",
       "      <td>0</td>\n",
       "      <td>0</td>\n",
       "      <td>0</td>\n",
       "      <td>0</td>\n",
       "      <td>0</td>\n",
       "      <td>0</td>\n",
       "      <td>0</td>\n",
       "      <td>0</td>\n",
       "      <td>...</td>\n",
       "      <td>0</td>\n",
       "      <td>0</td>\n",
       "      <td>0</td>\n",
       "      <td>0</td>\n",
       "      <td>1</td>\n",
       "      <td>0</td>\n",
       "      <td>0</td>\n",
       "      <td>0</td>\n",
       "      <td>0</td>\n",
       "      <td>0</td>\n",
       "    </tr>\n",
       "    <tr>\n",
       "      <th>4</th>\n",
       "      <td>0</td>\n",
       "      <td>0</td>\n",
       "      <td>0</td>\n",
       "      <td>0</td>\n",
       "      <td>0</td>\n",
       "      <td>0</td>\n",
       "      <td>0</td>\n",
       "      <td>0</td>\n",
       "      <td>0</td>\n",
       "      <td>0</td>\n",
       "      <td>...</td>\n",
       "      <td>0</td>\n",
       "      <td>0</td>\n",
       "      <td>0</td>\n",
       "      <td>0</td>\n",
       "      <td>0</td>\n",
       "      <td>0</td>\n",
       "      <td>0</td>\n",
       "      <td>0</td>\n",
       "      <td>0</td>\n",
       "      <td>0</td>\n",
       "    </tr>\n",
       "    <tr>\n",
       "      <th>...</th>\n",
       "      <td>...</td>\n",
       "      <td>...</td>\n",
       "      <td>...</td>\n",
       "      <td>...</td>\n",
       "      <td>...</td>\n",
       "      <td>...</td>\n",
       "      <td>...</td>\n",
       "      <td>...</td>\n",
       "      <td>...</td>\n",
       "      <td>...</td>\n",
       "      <td>...</td>\n",
       "      <td>...</td>\n",
       "      <td>...</td>\n",
       "      <td>...</td>\n",
       "      <td>...</td>\n",
       "      <td>...</td>\n",
       "      <td>...</td>\n",
       "      <td>...</td>\n",
       "      <td>...</td>\n",
       "      <td>...</td>\n",
       "      <td>...</td>\n",
       "    </tr>\n",
       "    <tr>\n",
       "      <th>421</th>\n",
       "      <td>0</td>\n",
       "      <td>0</td>\n",
       "      <td>0</td>\n",
       "      <td>0</td>\n",
       "      <td>0</td>\n",
       "      <td>0</td>\n",
       "      <td>0</td>\n",
       "      <td>0</td>\n",
       "      <td>0</td>\n",
       "      <td>0</td>\n",
       "      <td>...</td>\n",
       "      <td>0</td>\n",
       "      <td>0</td>\n",
       "      <td>0</td>\n",
       "      <td>0</td>\n",
       "      <td>0</td>\n",
       "      <td>0</td>\n",
       "      <td>0</td>\n",
       "      <td>0</td>\n",
       "      <td>0</td>\n",
       "      <td>0</td>\n",
       "    </tr>\n",
       "    <tr>\n",
       "      <th>422</th>\n",
       "      <td>0</td>\n",
       "      <td>0</td>\n",
       "      <td>0</td>\n",
       "      <td>0</td>\n",
       "      <td>0</td>\n",
       "      <td>0</td>\n",
       "      <td>0</td>\n",
       "      <td>0</td>\n",
       "      <td>0</td>\n",
       "      <td>0</td>\n",
       "      <td>...</td>\n",
       "      <td>0</td>\n",
       "      <td>0</td>\n",
       "      <td>0</td>\n",
       "      <td>0</td>\n",
       "      <td>0</td>\n",
       "      <td>0</td>\n",
       "      <td>0</td>\n",
       "      <td>0</td>\n",
       "      <td>0</td>\n",
       "      <td>0</td>\n",
       "    </tr>\n",
       "    <tr>\n",
       "      <th>423</th>\n",
       "      <td>0</td>\n",
       "      <td>2</td>\n",
       "      <td>0</td>\n",
       "      <td>0</td>\n",
       "      <td>0</td>\n",
       "      <td>0</td>\n",
       "      <td>0</td>\n",
       "      <td>0</td>\n",
       "      <td>0</td>\n",
       "      <td>0</td>\n",
       "      <td>...</td>\n",
       "      <td>0</td>\n",
       "      <td>1</td>\n",
       "      <td>0</td>\n",
       "      <td>0</td>\n",
       "      <td>0</td>\n",
       "      <td>0</td>\n",
       "      <td>0</td>\n",
       "      <td>0</td>\n",
       "      <td>0</td>\n",
       "      <td>0</td>\n",
       "    </tr>\n",
       "    <tr>\n",
       "      <th>424</th>\n",
       "      <td>0</td>\n",
       "      <td>0</td>\n",
       "      <td>0</td>\n",
       "      <td>0</td>\n",
       "      <td>0</td>\n",
       "      <td>0</td>\n",
       "      <td>0</td>\n",
       "      <td>0</td>\n",
       "      <td>0</td>\n",
       "      <td>0</td>\n",
       "      <td>...</td>\n",
       "      <td>0</td>\n",
       "      <td>0</td>\n",
       "      <td>0</td>\n",
       "      <td>0</td>\n",
       "      <td>0</td>\n",
       "      <td>0</td>\n",
       "      <td>0</td>\n",
       "      <td>0</td>\n",
       "      <td>0</td>\n",
       "      <td>0</td>\n",
       "    </tr>\n",
       "    <tr>\n",
       "      <th>425</th>\n",
       "      <td>0</td>\n",
       "      <td>1</td>\n",
       "      <td>0</td>\n",
       "      <td>0</td>\n",
       "      <td>0</td>\n",
       "      <td>0</td>\n",
       "      <td>0</td>\n",
       "      <td>0</td>\n",
       "      <td>0</td>\n",
       "      <td>0</td>\n",
       "      <td>...</td>\n",
       "      <td>0</td>\n",
       "      <td>0</td>\n",
       "      <td>0</td>\n",
       "      <td>0</td>\n",
       "      <td>0</td>\n",
       "      <td>0</td>\n",
       "      <td>0</td>\n",
       "      <td>0</td>\n",
       "      <td>0</td>\n",
       "      <td>0</td>\n",
       "    </tr>\n",
       "  </tbody>\n",
       "</table>\n",
       "<p>426 rows × 11808 columns</p>\n",
       "</div>"
      ],
      "text/plain": [
       "     00  000  000pay  02115job  03  0356  04  062  06366  08  ...  zenreach  \\\n",
       "0     0    0       0         0   0     0   0    0      0   0  ...         0   \n",
       "1     0    0       0         0   0     0   0    0      0   0  ...         0   \n",
       "2     0    0       0         0   0     0   0    0      0   0  ...         0   \n",
       "3     0    0       0         0   0     0   0    0      0   0  ...         0   \n",
       "4     0    0       0         0   0     0   0    0      0   0  ...         0   \n",
       "..   ..  ...     ...       ...  ..   ...  ..  ...    ...  ..  ...       ...   \n",
       "421   0    0       0         0   0     0   0    0      0   0  ...         0   \n",
       "422   0    0       0         0   0     0   0    0      0   0  ...         0   \n",
       "423   0    2       0         0   0     0   0    0      0   0  ...         0   \n",
       "424   0    0       0         0   0     0   0    0      0   0  ...         0   \n",
       "425   0    1       0         0   0     0   0    0      0   0  ...         0   \n",
       "\n",
       "     zero  zeus  zf  zheng  zillow  zonesability  zoom  zuckerberg  zurich  \n",
       "0       0     0   0      0       0             0     0           0       0  \n",
       "1       0     0   0      0       0             0     0           0       0  \n",
       "2       0     0   0      0       0             0     0           0       0  \n",
       "3       0     0   0      1       0             0     0           0       0  \n",
       "4       0     0   0      0       0             0     0           0       0  \n",
       "..    ...   ...  ..    ...     ...           ...   ...         ...     ...  \n",
       "421     0     0   0      0       0             0     0           0       0  \n",
       "422     0     0   0      0       0             0     0           0       0  \n",
       "423     1     0   0      0       0             0     0           0       0  \n",
       "424     0     0   0      0       0             0     0           0       0  \n",
       "425     0     0   0      0       0             0     0           0       0  \n",
       "\n",
       "[426 rows x 11808 columns]"
      ]
     },
     "execution_count": 74,
     "metadata": {},
     "output_type": "execute_result"
    }
   ],
   "source": [
    "dtm"
   ]
  },
  {
   "cell_type": "markdown",
   "metadata": {
    "colab_type": "text",
    "id": "Zo1iH_UeY7_n"
   },
   "source": [
    "## 4) Visualize the most common word counts"
   ]
  },
  {
   "cell_type": "code",
   "execution_count": 82,
   "metadata": {},
   "outputs": [],
   "source": [
    "table=pd.DataFrame(dtm.sum(axis=0).sort_values(ascending=False).head(30), columns=['count']).reset_index()"
   ]
  },
  {
   "cell_type": "code",
   "execution_count": 84,
   "metadata": {
    "colab": {},
    "colab_type": "code",
    "id": "M5LB00uyZKV5"
   },
   "outputs": [
    {
     "data": {
      "image/png": "[encoded data removed]",
      "text/plain": [
       "<Figure size 432x288 with 1 Axes>"
      ]
     },
     "metadata": {
      "needs_background": "light"
     },
     "output_type": "display_data"
    }
   ],
   "source": [
    "import squarify\n",
    "import matplotlib.pyplot as plt\n",
    "\n",
    "squarify.plot(sizes=table['count'], label=table['index'], alpha=.8 )\n",
    "plt.axis('off')\n",
    "plt.show()\n"
   ]
  },
  {
   "cell_type": "markdown",
   "metadata": {
    "colab_type": "text",
    "id": "bwFsTqrVZMYi"
   },
   "source": [
    "## 5) Use Scikit-Learn's tfidfVectorizer to get a TF-IDF feature matrix"
   ]
  },
  {
   "cell_type": "code",
   "execution_count": 93,
   "metadata": {},
   "outputs": [],
   "source": [
    "from sklearn.feature_extraction.text import TfidfVectorizer\n",
    "\n",
    "#instantiate vectorizer object\n",
    "tfidf = TfidfVectorizer(stop_words='english',\n",
    "                       min_df=2,\n",
    "                       ngram_range=(1,2),\n",
    "                        max_features=5000,\n",
    "                        max_df=0.95\n",
    "                       )\n",
    "\n",
    "#Create a vocabularly and get word counts per doc \n",
    "dtm=tfidf.fit_transform(df['clean_text'])\n",
    "\n",
    "#print word count\n",
    "\n",
    "dtm=pd.DataFrame(dtm.todense(), columns = tfidf.get_feature_names())\n"
   ]
  },
  {
   "cell_type": "code",
   "execution_count": 108,
   "metadata": {},
   "outputs": [
    {
     "data": {
      "text/plain": [
       "Index(['000', '000 employees', '10', '10 years', '100', '100 000',\n",
       "       '100 countries', '11', '12', '12 months', '15', '17', '18', '19', '20',\n",
       "       '200', '2015', '2017', '2018', '2019', '24', '25', '30', '3rd',\n",
       "       '3rd party', '40', '401', '401k', '50', '500', '500 companies', '60',\n",
       "       '600', '600 cities', '70', '800', '90', 'aa', 'aa employer', 'ab',\n",
       "       'abilities', 'abilities perspectives', 'ability', 'ability analyze',\n",
       "       'ability build', 'ability clearly', 'ability communicate',\n",
       "       'ability develop', 'ability drive', 'ability effectively',\n",
       "       'ability lead', 'ability manage', 'ability present', 'ability solve',\n",
       "       'ability translate', 'ability work', 'able', 'able work', 'academic',\n",
       "       'academics', 'accelerate', 'accelerating', 'accept',\n",
       "       'accept unsolicited', 'access', 'access compensation', 'accessible',\n",
       "       'accommodation', 'accommodation disability', 'accommodation let',\n",
       "       'accommodations', 'accommodations enable', 'accomplish', 'accordance',\n",
       "       'accordance applicable', 'according', 'account', 'accountability',\n",
       "       'accounting', 'accounts', 'accredited', 'accredited college',\n",
       "       'accuracy', 'accuracy new', 'accurate', 'accurately', 'achieve',\n",
       "       'achieve business', 'achieve goals', 'achieve mission', 'achieving',\n",
       "       'acquire', 'acquisition', 'act', 'action', 'action employer',\n",
       "       'actionable', 'actionable insights', 'actionable recommendations',\n",
       "       'actions'],\n",
       "      dtype='object')"
      ]
     },
     "execution_count": 108,
     "metadata": {},
     "output_type": "execute_result"
    }
   ],
   "source": [
    "dtm.columns[:100]"
   ]
  },
  {
   "cell_type": "code",
   "execution_count": 95,
   "metadata": {},
   "outputs": [],
   "source": [
    "#Calculate most similar listings \n",
    "\n",
    "from sklearn.metrics.pairwise import cosine_similarity \n",
    "\n",
    "dist_matrix = cosine_similarity(dtm)"
   ]
  },
  {
   "cell_type": "code",
   "execution_count": 100,
   "metadata": {},
   "outputs": [],
   "source": [
    "data=pd.DataFrame(dist_matrix)"
   ]
  },
  {
   "cell_type": "code",
   "execution_count": 101,
   "metadata": {},
   "outputs": [
    {
     "data": {
      "text/plain": [
       "115    0.178640\n",
       "338    0.172953\n",
       "403    0.149760\n",
       "393    0.144232\n",
       "199    0.141137\n",
       "366    0.140226\n",
       "222    0.136826\n",
       "276    0.129855\n",
       "60     0.122875\n",
       "42     0.122444\n",
       "Name: 0, dtype: float64"
      ]
     },
     "execution_count": 101,
     "metadata": {},
     "output_type": "execute_result"
    }
   ],
   "source": [
    "data[data[0]<1][0].sort_values(ascending=False)[:10]"
   ]
  },
  {
   "cell_type": "markdown",
   "metadata": {},
   "source": [
    "## 6) Create a NearestNeighbor Model. Write the description of your ideal datascience job and query your job listings. "
   ]
  },
  {
   "cell_type": "code",
   "execution_count": 113,
   "metadata": {},
   "outputs": [],
   "source": [
    "text=[\"\"\"Excellent educational background in computer science, machine learning, statistics, applied math, economics, operations research, or a related field. PhD degree preferred, Masters required.\n",
    "At least 5 years of industry experience in data science, with significant personal experience as a technical contributor. Experience working with large data sets and experience with spatial data a plus.\n",
    "Experience as a frontline manager, leading teams of 3 or more. As a manager, you will manage several direct reports initially and will have the opportunity to create, scale and nourish a team of experienced professionals.\n",
    "Entrepreneurial mindset. Everywhere you go, you can't help but mobilize people, create things, solve problems, roll up your sleeves, collaborate, go above and beyond. You are an insatiable doer and motivator of others.\n",
    "Experience working in a metrics and experimentation driven organization.\n",
    "Experience with common analysis tools - Python, R, and SQL. Demonstrable familiarity with code and programming concepts.\n",
    "A never-ending desire to grow and learn.\"\"\"]"
   ]
  },
  {
   "cell_type": "code",
   "execution_count": 110,
   "metadata": {
    "collapsed": false,
    "inputHidden": false,
    "jupyter": {
     "outputs_hidden": false
    },
    "outputHidden": false
   },
   "outputs": [
    {
     "data": {
      "text/plain": [
       "NearestNeighbors(algorithm='kd_tree', leaf_size=30, metric='minkowski',\n",
       "                 metric_params=None, n_jobs=None, n_neighbors=5, p=2,\n",
       "                 radius=1.0)"
      ]
     },
     "execution_count": 110,
     "metadata": {},
     "output_type": "execute_result"
    }
   ],
   "source": [
    "from sklearn.neighbors import NearestNeighbors\n",
    "\n",
    "#Fit on DTM\n",
    "\n",
    "nn=NearestNeighbors(n_neighbors=5, algorithm='kd_tree')\n",
    "nn.fit(dtm)"
   ]
  },
  {
   "cell_type": "code",
   "execution_count": 111,
   "metadata": {},
   "outputs": [
    {
     "data": {
      "text/plain": [
       "(array([[0.        , 1.2816864 , 1.28611617, 1.3040246 , 1.30825658]]),\n",
       " array([[  0, 115, 338, 403, 393]]))"
      ]
     },
     "execution_count": 111,
     "metadata": {},
     "output_type": "execute_result"
    }
   ],
   "source": [
    "nn.kneighbors([dtm.iloc[0].values])"
   ]
  },
  {
   "cell_type": "code",
   "execution_count": 114,
   "metadata": {},
   "outputs": [],
   "source": [
    "new=tfidf.transform(text)"
   ]
  },
  {
   "cell_type": "code",
   "execution_count": 115,
   "metadata": {},
   "outputs": [
    {
     "data": {
      "text/plain": [
       "(array([[1.29243869, 1.3039475 , 1.30467338, 1.30467338, 1.30498859]]),\n",
       " array([[220, 276,  10,  43,  38]]))"
      ]
     },
     "execution_count": 115,
     "metadata": {},
     "output_type": "execute_result"
    }
   ],
   "source": [
    "nn.kneighbors(new.todense())"
   ]
  },
  {
   "cell_type": "code",
   "execution_count": 117,
   "metadata": {},
   "outputs": [
    {
     "data": {
      "text/plain": [
       "'\"Facebook\\'s mission is to give people the power to build community and bring the world closer together. Through our family of apps and services, we\\'re building a different kind of company that connects billions of people around the world, gives them ways to share what matters most to them, and helps bring people closer together. Whether we\\'re creating new products or helping a small business expand its reach, people at Facebook are builders at heart. Our global teams are constantly iterating, solving problems, and working together to empower people around the world to build community and connect in meaningful ways. Together, we can help people build stronger communities \\\\xe2\\\\x80\\\\x94 we\\'re just getting started.The Infrastructure Strategy group is responsible for the strategic analysis to support and enable the continued growth critical to Facebook\\\\xe2\\\\x80\\\\x99s infrastructure organization. The ideal candidate will be passionate about Facebook, have strong analytical and modeling aptitude and has experience using data to drive cost effective decision making.RESPONSIBILITIESLeverage data and business principles to solve large-scale web, mobile and data infrastructure problems.Work cross-functionally to define problem statements, collect data, build analytical models and make recommendations.Build and maintain data driven optimization models, experiments, forecasting algorithms, and machine learning models.Leverage tools like Python, R, Hadoop & SQL to drive efficient analytics.Communicate final recommendations and drive decision making.MINIMUM QUALIFICATIONSDegree in quantitative field (e.g. Computer Science, Engineering, Mathematics, Statistics, Operations Research or other related field)2+ years of industry or graduate research experience solving analytical problems and building models using quantitative, statistical or machine learning approachesExperience with Machine Learning, Statistics, or other data analysis tools and techniquesExperience performing data extraction, cleaning, analysis and presentation for medium to large datasetsExperience with at least one programming language (i.e. Python, R, Java, or C++)Experience writing SQL queriesExperience with scientific computing and analysis packages such as NumPy, SciPy, Pandas, Scikit-learn, dplyr, or ggplot2Experience with statistics methods such as forecasting, time series, hypothesis testing, classification, clustering or regression analysisExperience with data visualization libraries such as Matplotlib, Pyplot, ggplot2Experience with machine learning libraries and packages such as PyTorch, Caffe2, TensorFlow, Keras or TheanoPREFERRED QUALIFICATIONSAdvanced degree (Master\\\\xe2\\\\x80\\\\x99s or PhD) in quantitative fieldExperience working with distributed computing tools (Hadoop, Hive, Spark, etc.)Proficiency in algorithmic complexity\"'"
      ]
     },
     "execution_count": 117,
     "metadata": {},
     "output_type": "execute_result"
    }
   ],
   "source": [
    "df['clean_text'][276]"
   ]
  },
  {
   "cell_type": "markdown",
   "metadata": {
    "colab_type": "text",
    "id": "FiDfTWceoRkH"
   },
   "source": [
    "## Stretch Goals\n",
    "\n",
    " - Try different visualizations for words and frequencies - what story do you want to tell with the data?\n",
    " - Scrape Job Listings for the job title \"Data Analyst\". How do these differ from Data Scientist Job Listings\n",
    " - Try and identify requirements for experience specific technologies that are asked for in the job listings. How are those distributed among the job listings?\n",
    " - Use a clustering algorithm to cluster documents by their most important terms. Do the clusters reveal any common themes?\n",
    "  - **Hint:** K-means might not be the best algorithm for this. Do a little bit of research to see what might be good for this. Also, remember that algorithms that depend on Euclidean distance break down with high dimensional data.\n",
    " - Create a labeled dataset - which jobs will you apply for? Train a model to select the jobs you are most likely to apply for. :) "
   ]
  }
 ],
 "metadata": {
  "colab": {
   "collapsed_sections": [],
   "name": "LS_DS_422_BOW_Assignment.ipynb",
   "provenance": [],
   "version": "0.3.2"
  },
  "kernel_info": {
   "name": "python3"
  },
  "kernelspec": {
   "display_name": "U4-S1-NLP (Python3)",
   "language": "python",
   "name": "u4-s1-nlp"
  },
  "language_info": {
   "codemirror_mode": {
    "name": "ipython",
    "version": 3
   },
   "file_extension": ".py",
   "mimetype": "text/x-python",
   "name": "python",
   "nbconvert_exporter": "python",
   "pygments_lexer": "ipython3",
   "version": "3.7.0"
  },
  "nteract": {
   "version": "0.14.3"
  }
 },
 "nbformat": 4,
 "nbformat_minor": 4
}
