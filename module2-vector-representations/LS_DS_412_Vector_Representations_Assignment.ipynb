{
 "cells": [
  {
   "cell_type": "markdown",
   "metadata": {},
   "source": [
    "<img align=\"left\" src=\"https://lever-client-logos.s3.amazonaws.com/864372b1-534c-480e-acd5-9711f850815c-1524247202159.png\" width=200>\n",
    "<br></br>\n",
    "\n",
    "# Vector Representations\n",
    "## *Data Science Unit 4 Sprint 2 Assignment 2*"
   ]
  },
  {
   "cell_type": "code",
   "execution_count": 1,
   "metadata": {
    "colab": {
     "base_uri": "https://localhost:8080/",
     "height": 159
    },
    "colab_type": "code",
    "id": "hyj-f9FDcVFp",
    "outputId": "5dd045fe-6e4c-458c-e2fc-253c3da9c805"
   },
   "outputs": [],
   "source": [
    "import re\n",
    "import string\n",
    "\n",
    "from sklearn.feature_extraction.text import CountVectorizer, TfidfVectorizer\n",
    "import matplotlib.pyplot as plt\n",
    "import pandas as pd\n",
    "import numpy as np\n",
    "import spacy\n",
    "\n",
    "from bs4 import BeautifulSoup"
   ]
  },
  {
   "cell_type": "code",
   "execution_count": 128,
   "metadata": {},
   "outputs": [],
   "source": [
    "def unicodetoascii(text):\n",
    "\n",
    "    TEXT = (text.\n",
    "    \t\treplace('\\\\xe2\\\\x80\\\\x99', \"'\").\n",
    "            replace('\\\\xc3\\\\xa9', 'e').\n",
    "            replace('\\\\xe2\\\\x80\\\\x90', '-').\n",
    "            replace('\\\\xe2\\\\x80\\\\x91', '-').\n",
    "            replace('\\\\xe2\\\\x80\\\\x92', '-').\n",
    "            replace('\\\\xe2\\\\x80\\\\x93', '-').\n",
    "            replace('\\\\xe2\\\\x80\\\\x94', '-').\n",
    "            replace('\\\\xe2\\\\x80\\\\x94', '-').\n",
    "            replace('\\\\xe2\\\\x80\\\\x98', \"'\").\n",
    "            replace('\\\\xe2\\\\x80\\\\x9b', \"'\").\n",
    "            replace('\\\\xe2\\\\x80\\\\x9c', '\"').\n",
    "            replace('\\\\xe2\\\\x80\\\\x9c', '\"').\n",
    "            replace('\\\\xe2\\\\x80\\\\x9d', '\"').\n",
    "            replace('\\\\xe2\\\\x80\\\\x9e', '\"').\n",
    "            replace('\\\\xe2\\\\x80\\\\x9f', '\"').\n",
    "            replace('\\\\xe2\\\\x80\\\\xa6', '...').\n",
    "            replace('\\\\xe2\\\\x80\\\\xb2', \"'\").\n",
    "            replace('\\\\xe2\\\\x80\\\\xb3', \"'\").\n",
    "            replace('\\\\xe2\\\\x80\\\\xb4', \"'\").\n",
    "            replace('\\\\xe2\\\\x80\\\\xb5', \"'\").\n",
    "            replace('\\\\xe2\\\\x80\\\\xb6', \"'\").\n",
    "            replace('\\\\xe2\\\\x80\\\\xb7', \"'\").\n",
    "            replace('\\\\xe2\\\\x81\\\\xba', \"+\").\n",
    "            replace('\\\\xe2\\\\x81\\\\xbb', \"-\").\n",
    "            replace('\\\\xe2\\\\x81\\\\xbc', \"=\").\n",
    "            replace('\\\\xe2\\\\x81\\\\xbd', \"(\").\n",
    "            replace('\\\\xe2\\\\x81\\\\xbe', \")\")\n",
    "\n",
    "                 )\n",
    "    return TEXT"
   ]
  },
  {
   "cell_type": "markdown",
   "metadata": {
    "colab_type": "text",
    "id": "M7bcmqfGXrFG"
   },
   "source": [
    "## 1) *Clean:* Job Listings from indeed.com that contain the title \"Data Scientist\" \n",
    "\n",
    "You have `job_listings.csv` in the data folder for this module. The text data in the description column is still messy - full of html tags. Use the [BeautifulSoup](https://www.crummy.com/software/BeautifulSoup/bs4/doc/) library to clean up this column. You will need to read through the documentation to accomplish this task. "
   ]
  },
  {
   "cell_type": "code",
   "execution_count": 136,
   "metadata": {
    "colab": {},
    "colab_type": "code",
    "id": "KcYlc1URXhlC"
   },
   "outputs": [],
   "source": [
    "from bs4 import BeautifulSoup\n",
    "import requests\n",
    "import pandas as pd\n",
    "\n",
    "df=pd.read_csv('data/job_listings.csv', encoding='utf-8')\n",
    "\n",
    "def clean_data(column):\n",
    "    result=[]\n",
    "    for i in range(len(column)):\n",
    "        soup=BeautifulSoup(column[i])\n",
    "        text=soup.text\n",
    "        text=text.strip('b')\n",
    "        text=unicodetoascii(text)\n",
    "        text=text.replace('\\\\n', ' ')\n",
    "        result.append(text)\n",
    "       # print(text)\n",
    "    return result\n",
    "\n",
    "#soup = BeautifulSoup(open(\"module2-vector-representations/data/job_listings.csv\"), 'lxml')\n",
    "#doc=requests.get('data/job_listings.csv')\n",
    "\n",
    "##### Your Code Here #####\n",
    "#raise Exception(\"\\nThis task is not complete. \\nReplace this line with your code for the task.\")\n",
    "                \n"
   ]
  },
  {
   "cell_type": "code",
   "execution_count": 137,
   "metadata": {},
   "outputs": [],
   "source": [
    "df['clean_text']=clean_data(df['description'])"
   ]
  },
  {
   "cell_type": "code",
   "execution_count": 138,
   "metadata": {},
   "outputs": [
    {
     "data": {
      "text/plain": [
       "'\"Facebook\\'s mission is to give people the power to build community and bring the world closer together. Through our family of apps and services, we\\'re building a different kind of company that connects billions of people around the world, gives them ways to share what matters most to them, and helps bring people closer together. Whether we\\'re creating new products or helping a small business expand its reach, people at Facebook are builders at heart. Our global teams are constantly iterating, solving problems, and working together to empower people around the world to build community and connect in meaningful ways. Together, we can help people build stronger communities - we\\'re just getting started. The Infrastructure Strategy group is responsible for the strategic analysis to support and enable the continued growth critical to Facebook\\'s infrastructure organization. The ideal candidate will be passionate about Facebook, have strong analytical and modeling aptitude and has experience using data to drive cost effective decision making.  RESPONSIBILITIES Leverage data and business principles to solve large-scale web, mobile and data infrastructure problems. Work cross-functionally to define problem statements, collect data, build analytical models and make recommendations. Build and maintain data driven optimization models, experiments, forecasting algorithms, and machine learning models. Leverage tools like Python, R, Hadoop & SQL to drive efficient analytics. Communicate final recommendations and drive decision making. MINIMUM QUALIFICATIONS Degree in quantitative field (e.g. Computer Science, Engineering, Mathematics, Statistics, Operations Research or other related field) 2+ years of industry or graduate research experience solving analytical problems and building models using quantitative, statistical or machine learning approaches Experience with Machine Learning, Statistics, or other data analysis tools and techniques Experience performing data extraction, cleaning, analysis and presentation for medium to large datasets Experience with at least one programming language (i.e. Python, R, Java, or C++) Experience writing SQL queries Experience with scientific computing and analysis packages such as NumPy, SciPy, Pandas, Scikit-learn, dplyr, or ggplot2 Experience with statistics methods such as forecasting, time series, hypothesis testing, classification, clustering or regression analysis Experience with data visualization libraries such as Matplotlib, Pyplot, ggplot2 Experience with machine learning libraries and packages such as PyTorch, Caffe2, TensorFlow, Keras or Theano PREFERRED QUALIFICATIONS Advanced degree (Master\\'s or PhD) in quantitative field Experience working with distributed computing tools (Hadoop, Hive, Spark, etc.) Proficiency in algorithmic complexity\"'"
      ]
     },
     "execution_count": 138,
     "metadata": {},
     "output_type": "execute_result"
    }
   ],
   "source": [
    "df['clean_text'][276]"
   ]
  },
  {
   "cell_type": "code",
   "execution_count": 135,
   "metadata": {},
   "outputs": [
    {
     "data": {
      "text/plain": [
       "'b\"Facebook\\'s mission is to give people the power to build community and bring the world closer together. Through our family of apps and services, we\\'re building a different kind of company that connects billions of people around the world, gives them ways to share what matters most to them, and helps bring people closer together. Whether we\\'re creating new products or helping a small business expand its reach, people at Facebook are builders at heart. Our global teams are constantly iterating, solving problems, and working together to empower people around the world to build community and connect in meaningful ways. Together, we can help people build stronger communities \\\\xe2\\\\x80\\\\x94 we\\'re just getting started.\\\\nThe Infrastructure Strategy group is responsible for the strategic analysis to support and enable the continued growth critical to Facebook\\\\xe2\\\\x80\\\\x99s infrastructure organization. The ideal candidate will be passionate about Facebook, have strong analytical and modeling aptitude and has experience using data to drive cost effective decision making.\\\\n\\\\nRESPONSIBILITIES\\\\nLeverage data and business principles to solve large-scale web, mobile and data infrastructure problems.\\\\nWork cross-functionally to define problem statements, collect data, build analytical models and make recommendations.\\\\nBuild and maintain data driven optimization models, experiments, forecasting algorithms, and machine learning models.\\\\nLeverage tools like Python, R, Hadoop & SQL to drive efficient analytics.\\\\nCommunicate final recommendations and drive decision making.\\\\nMINIMUM QUALIFICATIONS\\\\nDegree in quantitative field (e.g. Computer Science, Engineering, Mathematics, Statistics, Operations Research or other related field)\\\\n2+ years of industry or graduate research experience solving analytical problems and building models using quantitative, statistical or machine learning approaches\\\\nExperience with Machine Learning, Statistics, or other data analysis tools and techniques\\\\nExperience performing data extraction, cleaning, analysis and presentation for medium to large datasets\\\\nExperience with at least one programming language (i.e. Python, R, Java, or C++)\\\\nExperience writing SQL queries\\\\nExperience with scientific computing and analysis packages such as NumPy, SciPy, Pandas, Scikit-learn, dplyr, or ggplot2\\\\nExperience with statistics methods such as forecasting, time series, hypothesis testing, classification, clustering or regression analysis\\\\nExperience with data visualization libraries such as Matplotlib, Pyplot, ggplot2\\\\nExperience with machine learning libraries and packages such as PyTorch, Caffe2, TensorFlow, Keras or Theano\\\\nPREFERRED QUALIFICATIONS\\\\nAdvanced degree (Master\\\\xe2\\\\x80\\\\x99s or PhD) in quantitative field\\\\nExperience working with distributed computing tools (Hadoop, Hive, Spark, etc.)\\\\nProficiency in algorithmic complexity\"'"
      ]
     },
     "execution_count": 135,
     "metadata": {},
     "output_type": "execute_result"
    }
   ],
   "source": [
    "soup=BeautifulSoup(df['description'][276])\n",
    "soup.get_text()"
   ]
  },
  {
   "cell_type": "code",
   "execution_count": 133,
   "metadata": {},
   "outputs": [
    {
     "data": {
      "text/plain": [
       "'b\"<div><div><div>Facebook\\'s mission is to give people the power to build community and bring the world closer together. Through our family of apps and services, we\\'re building a different kind of company that connects billions of people around the world, gives them ways to share what matters most to them, and helps bring people closer together. Whether we\\'re creating new products or helping a small business expand its reach, people at Facebook are builders at heart. Our global teams are constantly iterating, solving problems, and working together to empower people around the world to build community and connect in meaningful ways. Together, we can help people build stronger communities \\\\xe2\\\\x80\\\\x94 we\\'re just getting started.\\\\n</div></div><div>The Infrastructure Strategy group is responsible for the strategic analysis to support and enable the continued growth critical to Facebook\\\\xe2\\\\x80\\\\x99s infrastructure organization. The ideal candidate will be passionate about Facebook, have strong analytical and modeling aptitude and has experience using data to drive cost effective decision making.\\\\n<br/>\\\\n</div><div><div>RESPONSIBILITIES</div><div></div><div><div><ul><li><div><div>\\\\nLeverage data and business principles to solve large-scale web, mobile and data infrastructure problems.</div></div></li></ul><div></div><ul><li><div><div>\\\\nWork cross-functionally to define problem statements, collect data, build analytical models and make recommendations.</div></div></li></ul><div></div><ul><li><div><div>\\\\nBuild and maintain data driven optimization models, experiments, forecasting algorithms, and machine learning models.</div></div></li></ul><div></div><ul><li><div><div>\\\\nLeverage tools like Python, R, Hadoop &amp; SQL to drive efficient analytics.</div></div></li></ul><div></div><ul><li><div><div>\\\\nCommunicate final recommendations and drive decision making.</div></div></li></ul></div></div></div><div><div>\\\\nMINIMUM QUALIFICATIONS</div><div></div><div><div><ul><li><div><div>\\\\nDegree in quantitative field (e.g. Computer Science, Engineering, Mathematics, Statistics, Operations Research or other related field)</div></div></li></ul><div></div><ul><li><div><div>\\\\n2+ years of industry or graduate research experience solving analytical problems and building models using quantitative, statistical or machine learning approaches</div></div></li></ul><div></div><ul><li><div><div>\\\\nExperience with Machine Learning, Statistics, or other data analysis tools and techniques</div></div></li></ul><div></div><ul><li><div><div>\\\\nExperience performing data extraction, cleaning, analysis and presentation for medium to large datasets</div></div></li></ul><div></div><ul><li><div><div>\\\\nExperience with at least one programming language (i.e. Python, R, Java, or C++)</div></div></li></ul><div></div><ul><li><div><div>\\\\nExperience writing SQL queries</div></div></li></ul><div></div><ul><li><div><div>\\\\nExperience with scientific computing and analysis packages such as NumPy, SciPy, Pandas, Scikit-learn, dplyr, or ggplot2</div></div></li></ul><div></div><ul><li><div><div>\\\\nExperience with statistics methods such as forecasting, time series, hypothesis testing, classification, clustering or regression analysis</div></div></li></ul><div></div><ul><li><div><div>\\\\nExperience with data visualization libraries such as Matplotlib, Pyplot, ggplot2</div></div></li></ul><div></div><ul><li><div><div>\\\\nExperience with machine learning libraries and packages such as PyTorch, Caffe2, TensorFlow, Keras or Theano</div></div></li></ul></div></div></div><div><div>\\\\nPREFERRED QUALIFICATIONS</div><div></div><div><div><ul><li><div><div>\\\\nAdvanced degree (Master\\\\xe2\\\\x80\\\\x99s or PhD) in quantitative field</div></div></li></ul><div></div><ul><li><div><div>\\\\nExperience working with distributed computing tools (Hadoop, Hive, Spark, etc.)</div></div></li></ul><div></div><ul><li><div><div>\\\\nProficiency in algorithmic complexity</div></div></li></ul></div></div></div></div>\"'"
      ]
     },
     "execution_count": 133,
     "metadata": {},
     "output_type": "execute_result"
    }
   ],
   "source": [
    "df['description'][276]"
   ]
  },
  {
   "cell_type": "markdown",
   "metadata": {
    "colab_type": "text",
    "id": "5C4xFZNtX1m2"
   },
   "source": [
    "## 2) Use Spacy to tokenize the listings "
   ]
  },
  {
   "cell_type": "code",
   "execution_count": 139,
   "metadata": {
    "colab": {},
    "colab_type": "code",
    "id": "dhUHuMr-X-II"
   },
   "outputs": [],
   "source": [
    "##### Your Code Here #####\n",
    "\n",
    "import spacy\n",
    "from spacy.tokenizer import Tokenizer\n",
    "nlp = spacy.load('en_core_web_lg')\n"
   ]
  },
  {
   "cell_type": "code",
   "execution_count": 140,
   "metadata": {},
   "outputs": [],
   "source": [
    "\n",
    "tokens = []\n",
    "\n",
    "for doc in tokenizer.pipe(df['clean_text'], batch_size=500):\n",
    "    \n",
    "    doc_tokens =[]\n",
    "    \n",
    "    for token in doc: \n",
    "        if (token.is_stop==False) & (token.is_punct == False):\n",
    "            doc_tokens.append(token.lemma_.lower())\n",
    "    tokens.append(doc_tokens)\n",
    "    \n",
    "df['tokens']=tokens"
   ]
  },
  {
   "cell_type": "code",
   "execution_count": 141,
   "metadata": {},
   "outputs": [
    {
     "data": {
      "text/plain": [
       "['\"job',\n",
       " 'requirements:',\n",
       " 'conceptual',\n",
       " 'understand',\n",
       " 'machine',\n",
       " 'learning',\n",
       " 'model',\n",
       " 'like',\n",
       " 'nai\\\\xc2\\\\xa8ve',\n",
       " 'bayes,',\n",
       " 'k-means,',\n",
       " 'svm,',\n",
       " 'apriori,',\n",
       " 'linear/',\n",
       " 'logistic',\n",
       " 'regression,',\n",
       " 'neural,',\n",
       " 'random',\n",
       " 'forests,',\n",
       " 'decision',\n",
       " 'trees,',\n",
       " 'k-nn',\n",
       " 'hands-on',\n",
       " 'experience',\n",
       " '2',\n",
       " 'intermediate',\n",
       " 'expert',\n",
       " 'level',\n",
       " 'code',\n",
       " 'skill',\n",
       " 'python/r.',\n",
       " '(ability',\n",
       " 'write',\n",
       " 'functions,',\n",
       " 'clean',\n",
       " 'efficient',\n",
       " 'datum',\n",
       " 'manipulation',\n",
       " 'mandatory',\n",
       " 'role)',\n",
       " 'exposure',\n",
       " 'package',\n",
       " 'like',\n",
       " 'numpy,',\n",
       " 'scipy,',\n",
       " 'pandas,',\n",
       " 'matplotlib',\n",
       " 'etc',\n",
       " 'python',\n",
       " 'ggplot2,',\n",
       " 'dplyr,',\n",
       " 'tidyr',\n",
       " 'r',\n",
       " 'ability',\n",
       " 'communicate',\n",
       " 'model',\n",
       " 'finding',\n",
       " 'technical',\n",
       " 'non-technical',\n",
       " 'stake',\n",
       " 'holder',\n",
       " 'hands',\n",
       " 'experience',\n",
       " 'sql/hive',\n",
       " 'similar',\n",
       " 'programme',\n",
       " 'language',\n",
       " 'past',\n",
       " 'work',\n",
       " 'github,',\n",
       " 'kaggle',\n",
       " 'publish',\n",
       " 'article',\n",
       " \"master's\",\n",
       " 'degree',\n",
       " 'statistics/mathematics/computer',\n",
       " 'science',\n",
       " 'quant',\n",
       " 'specific',\n",
       " 'field.',\n",
       " 'apply',\n",
       " 'now\"']"
      ]
     },
     "execution_count": 141,
     "metadata": {},
     "output_type": "execute_result"
    }
   ],
   "source": [
    "df['tokens'][0]"
   ]
  },
  {
   "cell_type": "markdown",
   "metadata": {
    "colab_type": "text",
    "id": "-lgCZNL_YycP"
   },
   "source": [
    "## 3) Use Scikit-Learn's CountVectorizer to get word counts for each listing."
   ]
  },
  {
   "cell_type": "code",
   "execution_count": 142,
   "metadata": {
    "colab": {},
    "colab_type": "code",
    "id": "X2PZ8Pj_YxcF"
   },
   "outputs": [],
   "source": [
    "##### Your Code Here #####\n",
    "from sklearn.feature_extraction.text import CountVectorizer\n",
    "\n",
    "\n",
    "#create the transformer -- initialize\n",
    "vect=CountVectorizer(stop_words='english')\n",
    "\n",
    "#build vocab and transform text\n",
    "dtm=vect.fit_transform(df['clean_text'])\n",
    "\n"
   ]
  },
  {
   "cell_type": "code",
   "execution_count": 143,
   "metadata": {},
   "outputs": [],
   "source": [
    "dtm=pd.DataFrame(dtm.todense(), columns=vect.get_feature_names())"
   ]
  },
  {
   "cell_type": "code",
   "execution_count": 144,
   "metadata": {},
   "outputs": [
    {
     "data": {
      "text/html": [
       "<div>\n",
       "<style scoped>\n",
       "    .dataframe tbody tr th:only-of-type {\n",
       "        vertical-align: middle;\n",
       "    }\n",
       "\n",
       "    .dataframe tbody tr th {\n",
       "        vertical-align: top;\n",
       "    }\n",
       "\n",
       "    .dataframe thead th {\n",
       "        text-align: right;\n",
       "    }\n",
       "</style>\n",
       "<table border=\"1\" class=\"dataframe\">\n",
       "  <thead>\n",
       "    <tr style=\"text-align: right;\">\n",
       "      <th></th>\n",
       "      <th>00</th>\n",
       "      <th>000</th>\n",
       "      <th>02115</th>\n",
       "      <th>03</th>\n",
       "      <th>0305</th>\n",
       "      <th>0356</th>\n",
       "      <th>04</th>\n",
       "      <th>062</th>\n",
       "      <th>06366</th>\n",
       "      <th>08</th>\n",
       "      <th>...</th>\n",
       "      <th>zero</th>\n",
       "      <th>zeus</th>\n",
       "      <th>zf</th>\n",
       "      <th>zheng</th>\n",
       "      <th>zillow</th>\n",
       "      <th>zogsports</th>\n",
       "      <th>zones</th>\n",
       "      <th>zoom</th>\n",
       "      <th>zuckerberg</th>\n",
       "      <th>zurich</th>\n",
       "    </tr>\n",
       "  </thead>\n",
       "  <tbody>\n",
       "    <tr>\n",
       "      <th>0</th>\n",
       "      <td>0</td>\n",
       "      <td>0</td>\n",
       "      <td>0</td>\n",
       "      <td>0</td>\n",
       "      <td>0</td>\n",
       "      <td>0</td>\n",
       "      <td>0</td>\n",
       "      <td>0</td>\n",
       "      <td>0</td>\n",
       "      <td>0</td>\n",
       "      <td>...</td>\n",
       "      <td>0</td>\n",
       "      <td>0</td>\n",
       "      <td>0</td>\n",
       "      <td>0</td>\n",
       "      <td>0</td>\n",
       "      <td>0</td>\n",
       "      <td>0</td>\n",
       "      <td>0</td>\n",
       "      <td>0</td>\n",
       "      <td>0</td>\n",
       "    </tr>\n",
       "    <tr>\n",
       "      <th>1</th>\n",
       "      <td>0</td>\n",
       "      <td>0</td>\n",
       "      <td>0</td>\n",
       "      <td>0</td>\n",
       "      <td>0</td>\n",
       "      <td>0</td>\n",
       "      <td>0</td>\n",
       "      <td>0</td>\n",
       "      <td>0</td>\n",
       "      <td>0</td>\n",
       "      <td>...</td>\n",
       "      <td>0</td>\n",
       "      <td>0</td>\n",
       "      <td>0</td>\n",
       "      <td>0</td>\n",
       "      <td>0</td>\n",
       "      <td>0</td>\n",
       "      <td>0</td>\n",
       "      <td>0</td>\n",
       "      <td>0</td>\n",
       "      <td>0</td>\n",
       "    </tr>\n",
       "    <tr>\n",
       "      <th>2</th>\n",
       "      <td>0</td>\n",
       "      <td>0</td>\n",
       "      <td>0</td>\n",
       "      <td>0</td>\n",
       "      <td>0</td>\n",
       "      <td>0</td>\n",
       "      <td>0</td>\n",
       "      <td>0</td>\n",
       "      <td>0</td>\n",
       "      <td>0</td>\n",
       "      <td>...</td>\n",
       "      <td>0</td>\n",
       "      <td>0</td>\n",
       "      <td>0</td>\n",
       "      <td>0</td>\n",
       "      <td>0</td>\n",
       "      <td>0</td>\n",
       "      <td>0</td>\n",
       "      <td>0</td>\n",
       "      <td>0</td>\n",
       "      <td>0</td>\n",
       "    </tr>\n",
       "    <tr>\n",
       "      <th>3</th>\n",
       "      <td>0</td>\n",
       "      <td>0</td>\n",
       "      <td>0</td>\n",
       "      <td>0</td>\n",
       "      <td>0</td>\n",
       "      <td>0</td>\n",
       "      <td>0</td>\n",
       "      <td>0</td>\n",
       "      <td>0</td>\n",
       "      <td>0</td>\n",
       "      <td>...</td>\n",
       "      <td>0</td>\n",
       "      <td>0</td>\n",
       "      <td>0</td>\n",
       "      <td>1</td>\n",
       "      <td>0</td>\n",
       "      <td>0</td>\n",
       "      <td>0</td>\n",
       "      <td>0</td>\n",
       "      <td>0</td>\n",
       "      <td>0</td>\n",
       "    </tr>\n",
       "    <tr>\n",
       "      <th>4</th>\n",
       "      <td>0</td>\n",
       "      <td>0</td>\n",
       "      <td>0</td>\n",
       "      <td>0</td>\n",
       "      <td>0</td>\n",
       "      <td>0</td>\n",
       "      <td>0</td>\n",
       "      <td>0</td>\n",
       "      <td>0</td>\n",
       "      <td>0</td>\n",
       "      <td>...</td>\n",
       "      <td>0</td>\n",
       "      <td>0</td>\n",
       "      <td>0</td>\n",
       "      <td>0</td>\n",
       "      <td>0</td>\n",
       "      <td>0</td>\n",
       "      <td>0</td>\n",
       "      <td>0</td>\n",
       "      <td>0</td>\n",
       "      <td>0</td>\n",
       "    </tr>\n",
       "    <tr>\n",
       "      <th>...</th>\n",
       "      <td>...</td>\n",
       "      <td>...</td>\n",
       "      <td>...</td>\n",
       "      <td>...</td>\n",
       "      <td>...</td>\n",
       "      <td>...</td>\n",
       "      <td>...</td>\n",
       "      <td>...</td>\n",
       "      <td>...</td>\n",
       "      <td>...</td>\n",
       "      <td>...</td>\n",
       "      <td>...</td>\n",
       "      <td>...</td>\n",
       "      <td>...</td>\n",
       "      <td>...</td>\n",
       "      <td>...</td>\n",
       "      <td>...</td>\n",
       "      <td>...</td>\n",
       "      <td>...</td>\n",
       "      <td>...</td>\n",
       "      <td>...</td>\n",
       "    </tr>\n",
       "    <tr>\n",
       "      <th>421</th>\n",
       "      <td>0</td>\n",
       "      <td>0</td>\n",
       "      <td>0</td>\n",
       "      <td>0</td>\n",
       "      <td>0</td>\n",
       "      <td>0</td>\n",
       "      <td>0</td>\n",
       "      <td>0</td>\n",
       "      <td>0</td>\n",
       "      <td>0</td>\n",
       "      <td>...</td>\n",
       "      <td>0</td>\n",
       "      <td>0</td>\n",
       "      <td>0</td>\n",
       "      <td>0</td>\n",
       "      <td>0</td>\n",
       "      <td>0</td>\n",
       "      <td>0</td>\n",
       "      <td>0</td>\n",
       "      <td>0</td>\n",
       "      <td>0</td>\n",
       "    </tr>\n",
       "    <tr>\n",
       "      <th>422</th>\n",
       "      <td>0</td>\n",
       "      <td>0</td>\n",
       "      <td>0</td>\n",
       "      <td>0</td>\n",
       "      <td>0</td>\n",
       "      <td>0</td>\n",
       "      <td>0</td>\n",
       "      <td>0</td>\n",
       "      <td>0</td>\n",
       "      <td>0</td>\n",
       "      <td>...</td>\n",
       "      <td>0</td>\n",
       "      <td>0</td>\n",
       "      <td>0</td>\n",
       "      <td>0</td>\n",
       "      <td>0</td>\n",
       "      <td>0</td>\n",
       "      <td>0</td>\n",
       "      <td>0</td>\n",
       "      <td>0</td>\n",
       "      <td>0</td>\n",
       "    </tr>\n",
       "    <tr>\n",
       "      <th>423</th>\n",
       "      <td>0</td>\n",
       "      <td>2</td>\n",
       "      <td>0</td>\n",
       "      <td>0</td>\n",
       "      <td>0</td>\n",
       "      <td>0</td>\n",
       "      <td>0</td>\n",
       "      <td>0</td>\n",
       "      <td>0</td>\n",
       "      <td>0</td>\n",
       "      <td>...</td>\n",
       "      <td>1</td>\n",
       "      <td>0</td>\n",
       "      <td>0</td>\n",
       "      <td>0</td>\n",
       "      <td>0</td>\n",
       "      <td>0</td>\n",
       "      <td>0</td>\n",
       "      <td>0</td>\n",
       "      <td>0</td>\n",
       "      <td>0</td>\n",
       "    </tr>\n",
       "    <tr>\n",
       "      <th>424</th>\n",
       "      <td>0</td>\n",
       "      <td>0</td>\n",
       "      <td>0</td>\n",
       "      <td>0</td>\n",
       "      <td>0</td>\n",
       "      <td>0</td>\n",
       "      <td>0</td>\n",
       "      <td>0</td>\n",
       "      <td>0</td>\n",
       "      <td>0</td>\n",
       "      <td>...</td>\n",
       "      <td>0</td>\n",
       "      <td>0</td>\n",
       "      <td>0</td>\n",
       "      <td>0</td>\n",
       "      <td>0</td>\n",
       "      <td>0</td>\n",
       "      <td>0</td>\n",
       "      <td>0</td>\n",
       "      <td>0</td>\n",
       "      <td>0</td>\n",
       "    </tr>\n",
       "    <tr>\n",
       "      <th>425</th>\n",
       "      <td>0</td>\n",
       "      <td>1</td>\n",
       "      <td>0</td>\n",
       "      <td>0</td>\n",
       "      <td>0</td>\n",
       "      <td>0</td>\n",
       "      <td>0</td>\n",
       "      <td>0</td>\n",
       "      <td>0</td>\n",
       "      <td>0</td>\n",
       "      <td>...</td>\n",
       "      <td>0</td>\n",
       "      <td>0</td>\n",
       "      <td>0</td>\n",
       "      <td>0</td>\n",
       "      <td>0</td>\n",
       "      <td>0</td>\n",
       "      <td>0</td>\n",
       "      <td>0</td>\n",
       "      <td>0</td>\n",
       "      <td>0</td>\n",
       "    </tr>\n",
       "  </tbody>\n",
       "</table>\n",
       "<p>426 rows × 8427 columns</p>\n",
       "</div>"
      ],
      "text/plain": [
       "     00  000  02115  03  0305  0356  04  062  06366  08  ...  zero  zeus  zf  \\\n",
       "0     0    0      0   0     0     0   0    0      0   0  ...     0     0   0   \n",
       "1     0    0      0   0     0     0   0    0      0   0  ...     0     0   0   \n",
       "2     0    0      0   0     0     0   0    0      0   0  ...     0     0   0   \n",
       "3     0    0      0   0     0     0   0    0      0   0  ...     0     0   0   \n",
       "4     0    0      0   0     0     0   0    0      0   0  ...     0     0   0   \n",
       "..   ..  ...    ...  ..   ...   ...  ..  ...    ...  ..  ...   ...   ...  ..   \n",
       "421   0    0      0   0     0     0   0    0      0   0  ...     0     0   0   \n",
       "422   0    0      0   0     0     0   0    0      0   0  ...     0     0   0   \n",
       "423   0    2      0   0     0     0   0    0      0   0  ...     1     0   0   \n",
       "424   0    0      0   0     0     0   0    0      0   0  ...     0     0   0   \n",
       "425   0    1      0   0     0     0   0    0      0   0  ...     0     0   0   \n",
       "\n",
       "     zheng  zillow  zogsports  zones  zoom  zuckerberg  zurich  \n",
       "0        0       0          0      0     0           0       0  \n",
       "1        0       0          0      0     0           0       0  \n",
       "2        0       0          0      0     0           0       0  \n",
       "3        1       0          0      0     0           0       0  \n",
       "4        0       0          0      0     0           0       0  \n",
       "..     ...     ...        ...    ...   ...         ...     ...  \n",
       "421      0       0          0      0     0           0       0  \n",
       "422      0       0          0      0     0           0       0  \n",
       "423      0       0          0      0     0           0       0  \n",
       "424      0       0          0      0     0           0       0  \n",
       "425      0       0          0      0     0           0       0  \n",
       "\n",
       "[426 rows x 8427 columns]"
      ]
     },
     "execution_count": 144,
     "metadata": {},
     "output_type": "execute_result"
    }
   ],
   "source": [
    "dtm"
   ]
  },
  {
   "cell_type": "markdown",
   "metadata": {
    "colab_type": "text",
    "id": "Zo1iH_UeY7_n"
   },
   "source": [
    "## 4) Visualize the most common word counts"
   ]
  },
  {
   "cell_type": "code",
   "execution_count": 145,
   "metadata": {},
   "outputs": [],
   "source": [
    "table=pd.DataFrame(dtm.sum(axis=0).sort_values(ascending=False).head(30), columns=['count']).reset_index()"
   ]
  },
  {
   "cell_type": "code",
   "execution_count": 146,
   "metadata": {
    "colab": {},
    "colab_type": "code",
    "id": "M5LB00uyZKV5"
   },
   "outputs": [
    {
     "data": {
      "image/png": "[encoded data removed]",
      "text/plain": [
       "<Figure size 432x288 with 1 Axes>"
      ]
     },
     "metadata": {
      "needs_background": "light"
     },
     "output_type": "display_data"
    }
   ],
   "source": [
    "import squarify\n",
    "import matplotlib.pyplot as plt\n",
    "\n",
    "squarify.plot(sizes=table['count'], label=table['index'], alpha=.8 )\n",
    "plt.axis('off')\n",
    "plt.show()\n"
   ]
  },
  {
   "cell_type": "markdown",
   "metadata": {
    "colab_type": "text",
    "id": "bwFsTqrVZMYi"
   },
   "source": [
    "## 5) Use Scikit-Learn's tfidfVectorizer to get a TF-IDF feature matrix"
   ]
  },
  {
   "cell_type": "code",
   "execution_count": 147,
   "metadata": {},
   "outputs": [],
   "source": [
    "from sklearn.feature_extraction.text import TfidfVectorizer\n",
    "\n",
    "#instantiate vectorizer object\n",
    "tfidf = TfidfVectorizer(stop_words='english',\n",
    "                       min_df=2,\n",
    "                       ngram_range=(1,2),\n",
    "                        max_features=5000,\n",
    "                        max_df=0.95\n",
    "                       )\n",
    "\n",
    "#Create a vocabularly and get word counts per doc \n",
    "dtm=tfidf.fit_transform(df['clean_text'])\n",
    "\n",
    "#print word count\n",
    "\n",
    "dtm=pd.DataFrame(dtm.todense(), columns = tfidf.get_feature_names())\n"
   ]
  },
  {
   "cell_type": "code",
   "execution_count": 148,
   "metadata": {},
   "outputs": [
    {
     "data": {
      "text/plain": [
       "Index(['000', '000 employees', '10', '10 years', '100', '100 000', '11', '12',\n",
       "       '12 months', '15', '17', '19', '20', '200', '2017', '2018', '2019',\n",
       "       '24', '25', '30', '3rd', '3rd party', '40', '401', '401 plan', '401k',\n",
       "       '50', '500', '500 companies', '60', '600', '600 cities', '70', '800',\n",
       "       '90', 'aa', 'aa employer', 'ab', 'abilities', 'abilities perspectives',\n",
       "       'ability', 'ability analyze', 'ability apply', 'ability build',\n",
       "       'ability clearly', 'ability collaborate', 'ability communicate',\n",
       "       'ability create', 'ability deliver', 'ability develop', 'ability drive',\n",
       "       'ability effectively', 'ability explain', 'ability identify',\n",
       "       'ability lead', 'ability learn', 'ability manage', 'ability present',\n",
       "       'ability solve', 'ability think', 'ability translate', 'ability work',\n",
       "       'ability write', 'able', 'able work', 'academic', 'academic research',\n",
       "       'academics', 'accelerate', 'accelerating', 'accept',\n",
       "       'accept unsolicited', 'access', 'access data', 'accessible',\n",
       "       'accommodation', 'accommodation disability', 'accommodation let',\n",
       "       'accommodations', 'accommodations enable', 'accomplish', 'accordance',\n",
       "       'according', 'account', 'accountability', 'accounting', 'accounts',\n",
       "       'accredited', 'accuracy', 'accuracy new', 'accurate', 'achieve',\n",
       "       'achieve mission', 'achieving', 'acquire', 'acquisition', 'act',\n",
       "       'action', 'action employer', 'actionable'],\n",
       "      dtype='object')"
      ]
     },
     "execution_count": 148,
     "metadata": {},
     "output_type": "execute_result"
    }
   ],
   "source": [
    "dtm.columns[:100]"
   ]
  },
  {
   "cell_type": "code",
   "execution_count": 149,
   "metadata": {},
   "outputs": [],
   "source": [
    "#Calculate most similar listings \n",
    "\n",
    "from sklearn.metrics.pairwise import cosine_similarity \n",
    "\n",
    "dist_matrix = cosine_similarity(dtm)"
   ]
  },
  {
   "cell_type": "code",
   "execution_count": 150,
   "metadata": {},
   "outputs": [],
   "source": [
    "data=pd.DataFrame(dist_matrix)"
   ]
  },
  {
   "cell_type": "code",
   "execution_count": 151,
   "metadata": {},
   "outputs": [
    {
     "data": {
      "text/plain": [
       "0      1.000000\n",
       "338    0.168591\n",
       "115    0.165926\n",
       "403    0.146932\n",
       "168    0.144201\n",
       "366    0.136257\n",
       "399    0.129888\n",
       "138    0.126896\n",
       "42     0.126896\n",
       "199    0.126179\n",
       "Name: 0, dtype: float64"
      ]
     },
     "execution_count": 151,
     "metadata": {},
     "output_type": "execute_result"
    }
   ],
   "source": [
    "data[data[0]<1][0].sort_values(ascending=False)[:10]"
   ]
  },
  {
   "cell_type": "markdown",
   "metadata": {},
   "source": [
    "## 6) Create a NearestNeighbor Model. Write the description of your ideal datascience job and query your job listings. "
   ]
  },
  {
   "cell_type": "code",
   "execution_count": 152,
   "metadata": {},
   "outputs": [],
   "source": [
    "text=[\"\"\"Excellent educational background in computer science, machine learning, statistics, applied math, economics, operations research, or a related field. PhD degree preferred, Masters required.\n",
    "At least 5 years of industry experience in data science, with significant personal experience as a technical contributor. Experience working with large data sets and experience with spatial data a plus.\n",
    "Experience as a frontline manager, leading teams of 3 or more. As a manager, you will manage several direct reports initially and will have the opportunity to create, scale and nourish a team of experienced professionals.\n",
    "Entrepreneurial mindset. Everywhere you go, you can't help but mobilize people, create things, solve problems, roll up your sleeves, collaborate, go above and beyond. You are an insatiable doer and motivator of others.\n",
    "Experience working in a metrics and experimentation driven organization.\n",
    "Experience with common analysis tools - Python, R, and SQL. Demonstrable familiarity with code and programming concepts.\n",
    "A never-ending desire to grow and learn.\"\"\"]"
   ]
  },
  {
   "cell_type": "code",
   "execution_count": 153,
   "metadata": {
    "collapsed": false,
    "inputHidden": false,
    "jupyter": {
     "outputs_hidden": false
    },
    "outputHidden": false
   },
   "outputs": [
    {
     "data": {
      "text/plain": [
       "NearestNeighbors(algorithm='kd_tree', leaf_size=30, metric='minkowski',\n",
       "                 metric_params=None, n_jobs=None, n_neighbors=5, p=2,\n",
       "                 radius=1.0)"
      ]
     },
     "execution_count": 153,
     "metadata": {},
     "output_type": "execute_result"
    }
   ],
   "source": [
    "from sklearn.neighbors import NearestNeighbors\n",
    "\n",
    "#Fit on DTM\n",
    "\n",
    "nn=NearestNeighbors(n_neighbors=5, algorithm='kd_tree')\n",
    "nn.fit(dtm)"
   ]
  },
  {
   "cell_type": "code",
   "execution_count": 154,
   "metadata": {},
   "outputs": [
    {
     "data": {
      "text/plain": [
       "(array([[0.        , 1.28950308, 1.29156787, 1.30619153, 1.30828034]]),\n",
       " array([[  0, 338, 115, 403, 168]]))"
      ]
     },
     "execution_count": 154,
     "metadata": {},
     "output_type": "execute_result"
    }
   ],
   "source": [
    "nn.kneighbors([dtm.iloc[0].values])"
   ]
  },
  {
   "cell_type": "code",
   "execution_count": 155,
   "metadata": {},
   "outputs": [],
   "source": [
    "new=tfidf.transform(text)"
   ]
  },
  {
   "cell_type": "code",
   "execution_count": 156,
   "metadata": {},
   "outputs": [
    {
     "data": {
      "text/plain": [
       "(array([[1.30091935, 1.30450693, 1.30718577, 1.31634665, 1.31634665]]),\n",
       " array([[220,  89, 276,  52, 142]]))"
      ]
     },
     "execution_count": 156,
     "metadata": {},
     "output_type": "execute_result"
    }
   ],
   "source": [
    "nn.kneighbors(new.todense())"
   ]
  },
  {
   "cell_type": "code",
   "execution_count": 158,
   "metadata": {},
   "outputs": [
    {
     "data": {
      "text/plain": [
       "['\"facebook\\'s',\n",
       " 'mission',\n",
       " 'people',\n",
       " 'power',\n",
       " 'build',\n",
       " 'community',\n",
       " 'bring',\n",
       " 'world',\n",
       " 'close',\n",
       " 'together.',\n",
       " 'family',\n",
       " 'app',\n",
       " 'services,',\n",
       " \"we're\",\n",
       " 'build',\n",
       " 'different',\n",
       " 'kind',\n",
       " 'company',\n",
       " 'connect',\n",
       " 'billion',\n",
       " 'people',\n",
       " 'world,',\n",
       " 'give',\n",
       " 'way',\n",
       " 'share',\n",
       " 'matter',\n",
       " 'them,',\n",
       " 'help',\n",
       " 'bring',\n",
       " 'people',\n",
       " 'close',\n",
       " 'together.',\n",
       " \"we're\",\n",
       " 'create',\n",
       " 'new',\n",
       " 'product',\n",
       " 'help',\n",
       " 'small',\n",
       " 'business',\n",
       " 'expand',\n",
       " 'reach,',\n",
       " 'people',\n",
       " 'facebook',\n",
       " 'builder',\n",
       " 'heart.',\n",
       " 'global',\n",
       " 'team',\n",
       " 'constantly',\n",
       " 'iterating,',\n",
       " 'solve',\n",
       " 'problems,',\n",
       " 'work',\n",
       " 'empower',\n",
       " 'people',\n",
       " 'world',\n",
       " 'build',\n",
       " 'community',\n",
       " 'connect',\n",
       " 'meaningful',\n",
       " 'ways.',\n",
       " 'together,',\n",
       " 'help',\n",
       " 'people',\n",
       " 'build',\n",
       " 'strong',\n",
       " 'community',\n",
       " \"we're\",\n",
       " 'get',\n",
       " 'started.',\n",
       " 'infrastructure',\n",
       " 'strategy',\n",
       " 'group',\n",
       " 'responsible',\n",
       " 'strategic',\n",
       " 'analysis',\n",
       " 'support',\n",
       " 'enable',\n",
       " 'continue',\n",
       " 'growth',\n",
       " 'critical',\n",
       " \"facebook's\",\n",
       " 'infrastructure',\n",
       " 'organization.',\n",
       " 'ideal',\n",
       " 'candidate',\n",
       " 'passionate',\n",
       " 'facebook,',\n",
       " 'strong',\n",
       " 'analytic',\n",
       " 'model',\n",
       " 'aptitude',\n",
       " 'experience',\n",
       " 'datum',\n",
       " 'drive',\n",
       " 'cost',\n",
       " 'effective',\n",
       " 'decision',\n",
       " 'making.',\n",
       " ' ',\n",
       " 'responsibilities',\n",
       " 'leverage',\n",
       " 'datum',\n",
       " 'business',\n",
       " 'principle',\n",
       " 'solve',\n",
       " 'large-scale',\n",
       " 'web,',\n",
       " 'mobile',\n",
       " 'datum',\n",
       " 'infrastructure',\n",
       " 'problems.',\n",
       " 'work',\n",
       " 'cross-functionally',\n",
       " 'define',\n",
       " 'problem',\n",
       " 'statements,',\n",
       " 'collect',\n",
       " 'data,',\n",
       " 'build',\n",
       " 'analytic',\n",
       " 'model',\n",
       " 'recommendations.',\n",
       " 'build',\n",
       " 'maintain',\n",
       " 'datum',\n",
       " 'drive',\n",
       " 'optimization',\n",
       " 'models,',\n",
       " 'experiments,',\n",
       " 'forecast',\n",
       " 'algorithms,',\n",
       " 'machine',\n",
       " 'learn',\n",
       " 'models.',\n",
       " 'leverage',\n",
       " 'tool',\n",
       " 'like',\n",
       " 'python,',\n",
       " 'r,',\n",
       " 'hadoop',\n",
       " 'sql',\n",
       " 'drive',\n",
       " 'efficient',\n",
       " 'analytics.',\n",
       " 'communicate',\n",
       " 'final',\n",
       " 'recommendation',\n",
       " 'drive',\n",
       " 'decision',\n",
       " 'making.',\n",
       " 'minimum',\n",
       " 'qualifications',\n",
       " 'degree',\n",
       " 'quantitative',\n",
       " 'field',\n",
       " '(e.g.',\n",
       " 'computer',\n",
       " 'science,',\n",
       " 'engineering,',\n",
       " 'mathematics,',\n",
       " 'statistics,',\n",
       " 'operations',\n",
       " 'research',\n",
       " 'relate',\n",
       " 'field)',\n",
       " '2+',\n",
       " 'year',\n",
       " 'industry',\n",
       " 'graduate',\n",
       " 'research',\n",
       " 'experience',\n",
       " 'solve',\n",
       " 'analytic',\n",
       " 'problem',\n",
       " 'build',\n",
       " 'model',\n",
       " 'quantitative,',\n",
       " 'statistical',\n",
       " 'machine',\n",
       " 'learn',\n",
       " 'approach',\n",
       " 'experience',\n",
       " 'machine',\n",
       " 'learning,',\n",
       " 'statistics,',\n",
       " 'datum',\n",
       " 'analysis',\n",
       " 'tool',\n",
       " 'technique',\n",
       " 'experience',\n",
       " 'perform',\n",
       " 'datum',\n",
       " 'extraction,',\n",
       " 'cleaning,',\n",
       " 'analysis',\n",
       " 'presentation',\n",
       " 'medium',\n",
       " 'large',\n",
       " 'dataset',\n",
       " 'experience',\n",
       " 'programme',\n",
       " 'language',\n",
       " '(i.e.',\n",
       " 'python,',\n",
       " 'r,',\n",
       " 'java,',\n",
       " 'c++)',\n",
       " 'experience',\n",
       " 'write',\n",
       " 'sql',\n",
       " 'query',\n",
       " 'experience',\n",
       " 'scientific',\n",
       " 'compute',\n",
       " 'analysis',\n",
       " 'package',\n",
       " 'numpy,',\n",
       " 'scipy,',\n",
       " 'pandas,',\n",
       " 'scikit-learn,',\n",
       " 'dplyr,',\n",
       " 'ggplot2',\n",
       " 'experience',\n",
       " 'statistic',\n",
       " 'method',\n",
       " 'forecasting,',\n",
       " 'time',\n",
       " 'series,',\n",
       " 'hypothesis',\n",
       " 'testing,',\n",
       " 'classification,',\n",
       " 'cluster',\n",
       " 'regression',\n",
       " 'analysis',\n",
       " 'experience',\n",
       " 'datum',\n",
       " 'visualization',\n",
       " 'library',\n",
       " 'matplotlib,',\n",
       " 'pyplot,',\n",
       " 'ggplot2',\n",
       " 'experience',\n",
       " 'machine',\n",
       " 'learn',\n",
       " 'library',\n",
       " 'package',\n",
       " 'pytorch,',\n",
       " 'caffe2,',\n",
       " 'tensorflow,',\n",
       " 'keras',\n",
       " 'theano',\n",
       " 'preferred',\n",
       " 'qualifications',\n",
       " 'advanced',\n",
       " 'degree',\n",
       " \"(master's\",\n",
       " 'phd)',\n",
       " 'quantitative',\n",
       " 'field',\n",
       " 'experience',\n",
       " 'work',\n",
       " 'distribute',\n",
       " 'compute',\n",
       " 'tool',\n",
       " '(hadoop,',\n",
       " 'hive,',\n",
       " 'spark,',\n",
       " 'etc.)',\n",
       " 'proficiency',\n",
       " 'algorithmic',\n",
       " 'complexity\"']"
      ]
     },
     "execution_count": 158,
     "metadata": {},
     "output_type": "execute_result"
    }
   ],
   "source": [
    "df['tokens'][276]"
   ]
  },
  {
   "cell_type": "markdown",
   "metadata": {
    "colab_type": "text",
    "id": "FiDfTWceoRkH"
   },
   "source": [
    "## Stretch Goals\n",
    "\n",
    " - Try different visualizations for words and frequencies - what story do you want to tell with the data?\n",
    " - Scrape Job Listings for the job title \"Data Analyst\". How do these differ from Data Scientist Job Listings\n",
    " - Try and identify requirements for experience specific technologies that are asked for in the job listings. How are those distributed among the job listings?\n",
    " - Use a clustering algorithm to cluster documents by their most important terms. Do the clusters reveal any common themes?\n",
    "  - **Hint:** K-means might not be the best algorithm for this. Do a little bit of research to see what might be good for this. Also, remember that algorithms that depend on Euclidean distance break down with high dimensional data.\n",
    " - Create a labeled dataset - which jobs will you apply for? Train a model to select the jobs you are most likely to apply for. :) "
   ]
  },
  {
   "cell_type": "code",
   "execution_count": null,
   "metadata": {},
   "outputs": [],
   "source": []
  }
 ],
 "metadata": {
  "colab": {
   "collapsed_sections": [],
   "name": "LS_DS_422_BOW_Assignment.ipynb",
   "provenance": [],
   "version": "0.3.2"
  },
  "kernel_info": {
   "name": "python3"
  },
  "kernelspec": {
   "display_name": "U4-S1-NLP (Python3)",
   "language": "python",
   "name": "u4-s1-nlp"
  },
  "language_info": {
   "codemirror_mode": {
    "name": "ipython",
    "version": 3
   },
   "file_extension": ".py",
   "mimetype": "text/x-python",
   "name": "python",
   "nbconvert_exporter": "python",
   "pygments_lexer": "ipython3",
   "version": "3.7.0"
  },
  "nteract": {
   "version": "0.14.3"
  }
 },
 "nbformat": 4,
 "nbformat_minor": 4
}
